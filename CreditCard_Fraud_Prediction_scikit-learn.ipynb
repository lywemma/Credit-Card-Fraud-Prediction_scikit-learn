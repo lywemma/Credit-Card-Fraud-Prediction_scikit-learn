{
 "cells": [
  {
   "cell_type": "code",
   "execution_count": 74,
   "metadata": {
    "collapsed": false
   },
   "outputs": [],
   "source": [
    "import pandas as pd\n",
    "import numpy as np\n",
    "from sklearn.preprocessing import StandardScaler\n",
    "from sklearn.model_selection import train_test_split\n",
    "from sklearn.neighbors import KNeighborsClassifier\n",
    "from sklearn.tree import DecisionTreeClassifier\n",
    "from sklearn.svm import SVC\n",
    "from sklearn.ensemble import GradientBoostingClassifier\n",
    "from sklearn.neural_network import MLPClassifier\n",
    "from sklearn.model_selection import GridSearchCV\n",
    "from sklearn.metrics import confusion_matrix\n",
    "from sklearn.metrics import classification_report\n",
    "from sklearn.metrics import roc_curve, auc\n",
    "import matplotlib.pyplot as plt\n",
    "import seaborn as sns"
   ]
  },
  {
   "cell_type": "markdown",
   "metadata": {},
   "source": [
    "## Load Data and Explore Data Structure"
   ]
  },
  {
   "cell_type": "code",
   "execution_count": 34,
   "metadata": {
    "collapsed": true
   },
   "outputs": [],
   "source": [
    "creditcard = pd.read_csv(\"creditcard.csv\")"
   ]
  },
  {
   "cell_type": "code",
   "execution_count": 35,
   "metadata": {
    "collapsed": false
   },
   "outputs": [
    {
     "name": "stdout",
     "output_type": "stream",
     "text": [
      "<class 'pandas.core.frame.DataFrame'>\n",
      "RangeIndex: 284807 entries, 0 to 284806\n",
      "Data columns (total 31 columns):\n",
      "Time      284807 non-null float64\n",
      "V1        284807 non-null float64\n",
      "V2        284807 non-null float64\n",
      "V3        284807 non-null float64\n",
      "V4        284807 non-null float64\n",
      "V5        284807 non-null float64\n",
      "V6        284807 non-null float64\n",
      "V7        284807 non-null float64\n",
      "V8        284807 non-null float64\n",
      "V9        284807 non-null float64\n",
      "V10       284807 non-null float64\n",
      "V11       284807 non-null float64\n",
      "V12       284807 non-null float64\n",
      "V13       284807 non-null float64\n",
      "V14       284807 non-null float64\n",
      "V15       284807 non-null float64\n",
      "V16       284807 non-null float64\n",
      "V17       284807 non-null float64\n",
      "V18       284807 non-null float64\n",
      "V19       284807 non-null float64\n",
      "V20       284807 non-null float64\n",
      "V21       284807 non-null float64\n",
      "V22       284807 non-null float64\n",
      "V23       284807 non-null float64\n",
      "V24       284807 non-null float64\n",
      "V25       284807 non-null float64\n",
      "V26       284807 non-null float64\n",
      "V27       284807 non-null float64\n",
      "V28       284807 non-null float64\n",
      "Amount    284807 non-null float64\n",
      "Class     284807 non-null int64\n",
      "dtypes: float64(30), int64(1)\n",
      "memory usage: 67.4 MB\n"
     ]
    }
   ],
   "source": [
    "creditcard.info()\n",
    "## No missing values\n",
    "## Class (1-Fraud,0-NotFraud) should be character rather than int.\n",
    "#creditcard['Class'] =  creditcard['Class'].astype(str)"
   ]
  },
  {
   "cell_type": "code",
   "execution_count": 36,
   "metadata": {
    "collapsed": false
   },
   "outputs": [
    {
     "data": {
      "text/html": [
       "<div>\n",
       "<table border=\"1\" class=\"dataframe\">\n",
       "  <thead>\n",
       "    <tr style=\"text-align: right;\">\n",
       "      <th></th>\n",
       "      <th>Time</th>\n",
       "      <th>V1</th>\n",
       "      <th>V2</th>\n",
       "      <th>V3</th>\n",
       "      <th>V4</th>\n",
       "      <th>V5</th>\n",
       "      <th>V6</th>\n",
       "      <th>V7</th>\n",
       "      <th>V8</th>\n",
       "      <th>V9</th>\n",
       "      <th>...</th>\n",
       "      <th>V21</th>\n",
       "      <th>V22</th>\n",
       "      <th>V23</th>\n",
       "      <th>V24</th>\n",
       "      <th>V25</th>\n",
       "      <th>V26</th>\n",
       "      <th>V27</th>\n",
       "      <th>V28</th>\n",
       "      <th>Amount</th>\n",
       "      <th>Class</th>\n",
       "    </tr>\n",
       "  </thead>\n",
       "  <tbody>\n",
       "    <tr>\n",
       "      <th>0</th>\n",
       "      <td>0.0</td>\n",
       "      <td>-1.359807</td>\n",
       "      <td>-0.072781</td>\n",
       "      <td>2.536347</td>\n",
       "      <td>1.378155</td>\n",
       "      <td>-0.338321</td>\n",
       "      <td>0.462388</td>\n",
       "      <td>0.239599</td>\n",
       "      <td>0.098698</td>\n",
       "      <td>0.363787</td>\n",
       "      <td>...</td>\n",
       "      <td>-0.018307</td>\n",
       "      <td>0.277838</td>\n",
       "      <td>-0.110474</td>\n",
       "      <td>0.066928</td>\n",
       "      <td>0.128539</td>\n",
       "      <td>-0.189115</td>\n",
       "      <td>0.133558</td>\n",
       "      <td>-0.021053</td>\n",
       "      <td>149.62</td>\n",
       "      <td>0</td>\n",
       "    </tr>\n",
       "    <tr>\n",
       "      <th>1</th>\n",
       "      <td>0.0</td>\n",
       "      <td>1.191857</td>\n",
       "      <td>0.266151</td>\n",
       "      <td>0.166480</td>\n",
       "      <td>0.448154</td>\n",
       "      <td>0.060018</td>\n",
       "      <td>-0.082361</td>\n",
       "      <td>-0.078803</td>\n",
       "      <td>0.085102</td>\n",
       "      <td>-0.255425</td>\n",
       "      <td>...</td>\n",
       "      <td>-0.225775</td>\n",
       "      <td>-0.638672</td>\n",
       "      <td>0.101288</td>\n",
       "      <td>-0.339846</td>\n",
       "      <td>0.167170</td>\n",
       "      <td>0.125895</td>\n",
       "      <td>-0.008983</td>\n",
       "      <td>0.014724</td>\n",
       "      <td>2.69</td>\n",
       "      <td>0</td>\n",
       "    </tr>\n",
       "    <tr>\n",
       "      <th>2</th>\n",
       "      <td>1.0</td>\n",
       "      <td>-1.358354</td>\n",
       "      <td>-1.340163</td>\n",
       "      <td>1.773209</td>\n",
       "      <td>0.379780</td>\n",
       "      <td>-0.503198</td>\n",
       "      <td>1.800499</td>\n",
       "      <td>0.791461</td>\n",
       "      <td>0.247676</td>\n",
       "      <td>-1.514654</td>\n",
       "      <td>...</td>\n",
       "      <td>0.247998</td>\n",
       "      <td>0.771679</td>\n",
       "      <td>0.909412</td>\n",
       "      <td>-0.689281</td>\n",
       "      <td>-0.327642</td>\n",
       "      <td>-0.139097</td>\n",
       "      <td>-0.055353</td>\n",
       "      <td>-0.059752</td>\n",
       "      <td>378.66</td>\n",
       "      <td>0</td>\n",
       "    </tr>\n",
       "    <tr>\n",
       "      <th>3</th>\n",
       "      <td>1.0</td>\n",
       "      <td>-0.966272</td>\n",
       "      <td>-0.185226</td>\n",
       "      <td>1.792993</td>\n",
       "      <td>-0.863291</td>\n",
       "      <td>-0.010309</td>\n",
       "      <td>1.247203</td>\n",
       "      <td>0.237609</td>\n",
       "      <td>0.377436</td>\n",
       "      <td>-1.387024</td>\n",
       "      <td>...</td>\n",
       "      <td>-0.108300</td>\n",
       "      <td>0.005274</td>\n",
       "      <td>-0.190321</td>\n",
       "      <td>-1.175575</td>\n",
       "      <td>0.647376</td>\n",
       "      <td>-0.221929</td>\n",
       "      <td>0.062723</td>\n",
       "      <td>0.061458</td>\n",
       "      <td>123.50</td>\n",
       "      <td>0</td>\n",
       "    </tr>\n",
       "    <tr>\n",
       "      <th>4</th>\n",
       "      <td>2.0</td>\n",
       "      <td>-1.158233</td>\n",
       "      <td>0.877737</td>\n",
       "      <td>1.548718</td>\n",
       "      <td>0.403034</td>\n",
       "      <td>-0.407193</td>\n",
       "      <td>0.095921</td>\n",
       "      <td>0.592941</td>\n",
       "      <td>-0.270533</td>\n",
       "      <td>0.817739</td>\n",
       "      <td>...</td>\n",
       "      <td>-0.009431</td>\n",
       "      <td>0.798278</td>\n",
       "      <td>-0.137458</td>\n",
       "      <td>0.141267</td>\n",
       "      <td>-0.206010</td>\n",
       "      <td>0.502292</td>\n",
       "      <td>0.219422</td>\n",
       "      <td>0.215153</td>\n",
       "      <td>69.99</td>\n",
       "      <td>0</td>\n",
       "    </tr>\n",
       "  </tbody>\n",
       "</table>\n",
       "<p>5 rows × 31 columns</p>\n",
       "</div>"
      ],
      "text/plain": [
       "   Time        V1        V2        V3        V4        V5        V6        V7  \\\n",
       "0   0.0 -1.359807 -0.072781  2.536347  1.378155 -0.338321  0.462388  0.239599   \n",
       "1   0.0  1.191857  0.266151  0.166480  0.448154  0.060018 -0.082361 -0.078803   \n",
       "2   1.0 -1.358354 -1.340163  1.773209  0.379780 -0.503198  1.800499  0.791461   \n",
       "3   1.0 -0.966272 -0.185226  1.792993 -0.863291 -0.010309  1.247203  0.237609   \n",
       "4   2.0 -1.158233  0.877737  1.548718  0.403034 -0.407193  0.095921  0.592941   \n",
       "\n",
       "         V8        V9  ...         V21       V22       V23       V24  \\\n",
       "0  0.098698  0.363787  ...   -0.018307  0.277838 -0.110474  0.066928   \n",
       "1  0.085102 -0.255425  ...   -0.225775 -0.638672  0.101288 -0.339846   \n",
       "2  0.247676 -1.514654  ...    0.247998  0.771679  0.909412 -0.689281   \n",
       "3  0.377436 -1.387024  ...   -0.108300  0.005274 -0.190321 -1.175575   \n",
       "4 -0.270533  0.817739  ...   -0.009431  0.798278 -0.137458  0.141267   \n",
       "\n",
       "        V25       V26       V27       V28  Amount  Class  \n",
       "0  0.128539 -0.189115  0.133558 -0.021053  149.62      0  \n",
       "1  0.167170  0.125895 -0.008983  0.014724    2.69      0  \n",
       "2 -0.327642 -0.139097 -0.055353 -0.059752  378.66      0  \n",
       "3  0.647376 -0.221929  0.062723  0.061458  123.50      0  \n",
       "4 -0.206010  0.502292  0.219422  0.215153   69.99      0  \n",
       "\n",
       "[5 rows x 31 columns]"
      ]
     },
     "execution_count": 36,
     "metadata": {},
     "output_type": "execute_result"
    }
   ],
   "source": [
    "creditcard.head()\n",
    "## V1-V28 are features that have been transformed using PCA.These variables would be used to predict Fraud."
   ]
  },
  {
   "cell_type": "code",
   "execution_count": 37,
   "metadata": {
    "collapsed": false
   },
   "outputs": [
    {
     "data": {
      "text/html": [
       "<div>\n",
       "<table border=\"1\" class=\"dataframe\">\n",
       "  <thead>\n",
       "    <tr style=\"text-align: right;\">\n",
       "      <th></th>\n",
       "      <th>Time</th>\n",
       "      <th>V1</th>\n",
       "      <th>V2</th>\n",
       "      <th>V3</th>\n",
       "      <th>V4</th>\n",
       "      <th>V5</th>\n",
       "      <th>V6</th>\n",
       "      <th>V7</th>\n",
       "      <th>V8</th>\n",
       "      <th>V9</th>\n",
       "      <th>...</th>\n",
       "      <th>V21</th>\n",
       "      <th>V22</th>\n",
       "      <th>V23</th>\n",
       "      <th>V24</th>\n",
       "      <th>V25</th>\n",
       "      <th>V26</th>\n",
       "      <th>V27</th>\n",
       "      <th>V28</th>\n",
       "      <th>Amount</th>\n",
       "      <th>Class</th>\n",
       "    </tr>\n",
       "  </thead>\n",
       "  <tbody>\n",
       "    <tr>\n",
       "      <th>count</th>\n",
       "      <td>284807.000000</td>\n",
       "      <td>2.848070e+05</td>\n",
       "      <td>2.848070e+05</td>\n",
       "      <td>2.848070e+05</td>\n",
       "      <td>2.848070e+05</td>\n",
       "      <td>2.848070e+05</td>\n",
       "      <td>2.848070e+05</td>\n",
       "      <td>2.848070e+05</td>\n",
       "      <td>2.848070e+05</td>\n",
       "      <td>2.848070e+05</td>\n",
       "      <td>...</td>\n",
       "      <td>2.848070e+05</td>\n",
       "      <td>2.848070e+05</td>\n",
       "      <td>2.848070e+05</td>\n",
       "      <td>2.848070e+05</td>\n",
       "      <td>2.848070e+05</td>\n",
       "      <td>2.848070e+05</td>\n",
       "      <td>2.848070e+05</td>\n",
       "      <td>2.848070e+05</td>\n",
       "      <td>284807.000000</td>\n",
       "      <td>284807.000000</td>\n",
       "    </tr>\n",
       "    <tr>\n",
       "      <th>mean</th>\n",
       "      <td>94813.859575</td>\n",
       "      <td>3.919560e-15</td>\n",
       "      <td>5.688174e-16</td>\n",
       "      <td>-8.769071e-15</td>\n",
       "      <td>2.782312e-15</td>\n",
       "      <td>-1.552563e-15</td>\n",
       "      <td>2.010663e-15</td>\n",
       "      <td>-1.694249e-15</td>\n",
       "      <td>-1.927028e-16</td>\n",
       "      <td>-3.137024e-15</td>\n",
       "      <td>...</td>\n",
       "      <td>1.537294e-16</td>\n",
       "      <td>7.959909e-16</td>\n",
       "      <td>5.367590e-16</td>\n",
       "      <td>4.458112e-15</td>\n",
       "      <td>1.453003e-15</td>\n",
       "      <td>1.699104e-15</td>\n",
       "      <td>-3.660161e-16</td>\n",
       "      <td>-1.206049e-16</td>\n",
       "      <td>88.349619</td>\n",
       "      <td>0.001727</td>\n",
       "    </tr>\n",
       "    <tr>\n",
       "      <th>std</th>\n",
       "      <td>47488.145955</td>\n",
       "      <td>1.958696e+00</td>\n",
       "      <td>1.651309e+00</td>\n",
       "      <td>1.516255e+00</td>\n",
       "      <td>1.415869e+00</td>\n",
       "      <td>1.380247e+00</td>\n",
       "      <td>1.332271e+00</td>\n",
       "      <td>1.237094e+00</td>\n",
       "      <td>1.194353e+00</td>\n",
       "      <td>1.098632e+00</td>\n",
       "      <td>...</td>\n",
       "      <td>7.345240e-01</td>\n",
       "      <td>7.257016e-01</td>\n",
       "      <td>6.244603e-01</td>\n",
       "      <td>6.056471e-01</td>\n",
       "      <td>5.212781e-01</td>\n",
       "      <td>4.822270e-01</td>\n",
       "      <td>4.036325e-01</td>\n",
       "      <td>3.300833e-01</td>\n",
       "      <td>250.120109</td>\n",
       "      <td>0.041527</td>\n",
       "    </tr>\n",
       "    <tr>\n",
       "      <th>min</th>\n",
       "      <td>0.000000</td>\n",
       "      <td>-5.640751e+01</td>\n",
       "      <td>-7.271573e+01</td>\n",
       "      <td>-4.832559e+01</td>\n",
       "      <td>-5.683171e+00</td>\n",
       "      <td>-1.137433e+02</td>\n",
       "      <td>-2.616051e+01</td>\n",
       "      <td>-4.355724e+01</td>\n",
       "      <td>-7.321672e+01</td>\n",
       "      <td>-1.343407e+01</td>\n",
       "      <td>...</td>\n",
       "      <td>-3.483038e+01</td>\n",
       "      <td>-1.093314e+01</td>\n",
       "      <td>-4.480774e+01</td>\n",
       "      <td>-2.836627e+00</td>\n",
       "      <td>-1.029540e+01</td>\n",
       "      <td>-2.604551e+00</td>\n",
       "      <td>-2.256568e+01</td>\n",
       "      <td>-1.543008e+01</td>\n",
       "      <td>0.000000</td>\n",
       "      <td>0.000000</td>\n",
       "    </tr>\n",
       "    <tr>\n",
       "      <th>25%</th>\n",
       "      <td>54201.500000</td>\n",
       "      <td>-9.203734e-01</td>\n",
       "      <td>-5.985499e-01</td>\n",
       "      <td>-8.903648e-01</td>\n",
       "      <td>-8.486401e-01</td>\n",
       "      <td>-6.915971e-01</td>\n",
       "      <td>-7.682956e-01</td>\n",
       "      <td>-5.540759e-01</td>\n",
       "      <td>-2.086297e-01</td>\n",
       "      <td>-6.430976e-01</td>\n",
       "      <td>...</td>\n",
       "      <td>-2.283949e-01</td>\n",
       "      <td>-5.423504e-01</td>\n",
       "      <td>-1.618463e-01</td>\n",
       "      <td>-3.545861e-01</td>\n",
       "      <td>-3.171451e-01</td>\n",
       "      <td>-3.269839e-01</td>\n",
       "      <td>-7.083953e-02</td>\n",
       "      <td>-5.295979e-02</td>\n",
       "      <td>5.600000</td>\n",
       "      <td>0.000000</td>\n",
       "    </tr>\n",
       "    <tr>\n",
       "      <th>50%</th>\n",
       "      <td>84692.000000</td>\n",
       "      <td>1.810880e-02</td>\n",
       "      <td>6.548556e-02</td>\n",
       "      <td>1.798463e-01</td>\n",
       "      <td>-1.984653e-02</td>\n",
       "      <td>-5.433583e-02</td>\n",
       "      <td>-2.741871e-01</td>\n",
       "      <td>4.010308e-02</td>\n",
       "      <td>2.235804e-02</td>\n",
       "      <td>-5.142873e-02</td>\n",
       "      <td>...</td>\n",
       "      <td>-2.945017e-02</td>\n",
       "      <td>6.781943e-03</td>\n",
       "      <td>-1.119293e-02</td>\n",
       "      <td>4.097606e-02</td>\n",
       "      <td>1.659350e-02</td>\n",
       "      <td>-5.213911e-02</td>\n",
       "      <td>1.342146e-03</td>\n",
       "      <td>1.124383e-02</td>\n",
       "      <td>22.000000</td>\n",
       "      <td>0.000000</td>\n",
       "    </tr>\n",
       "    <tr>\n",
       "      <th>75%</th>\n",
       "      <td>139320.500000</td>\n",
       "      <td>1.315642e+00</td>\n",
       "      <td>8.037239e-01</td>\n",
       "      <td>1.027196e+00</td>\n",
       "      <td>7.433413e-01</td>\n",
       "      <td>6.119264e-01</td>\n",
       "      <td>3.985649e-01</td>\n",
       "      <td>5.704361e-01</td>\n",
       "      <td>3.273459e-01</td>\n",
       "      <td>5.971390e-01</td>\n",
       "      <td>...</td>\n",
       "      <td>1.863772e-01</td>\n",
       "      <td>5.285536e-01</td>\n",
       "      <td>1.476421e-01</td>\n",
       "      <td>4.395266e-01</td>\n",
       "      <td>3.507156e-01</td>\n",
       "      <td>2.409522e-01</td>\n",
       "      <td>9.104512e-02</td>\n",
       "      <td>7.827995e-02</td>\n",
       "      <td>77.165000</td>\n",
       "      <td>0.000000</td>\n",
       "    </tr>\n",
       "    <tr>\n",
       "      <th>max</th>\n",
       "      <td>172792.000000</td>\n",
       "      <td>2.454930e+00</td>\n",
       "      <td>2.205773e+01</td>\n",
       "      <td>9.382558e+00</td>\n",
       "      <td>1.687534e+01</td>\n",
       "      <td>3.480167e+01</td>\n",
       "      <td>7.330163e+01</td>\n",
       "      <td>1.205895e+02</td>\n",
       "      <td>2.000721e+01</td>\n",
       "      <td>1.559499e+01</td>\n",
       "      <td>...</td>\n",
       "      <td>2.720284e+01</td>\n",
       "      <td>1.050309e+01</td>\n",
       "      <td>2.252841e+01</td>\n",
       "      <td>4.584549e+00</td>\n",
       "      <td>7.519589e+00</td>\n",
       "      <td>3.517346e+00</td>\n",
       "      <td>3.161220e+01</td>\n",
       "      <td>3.384781e+01</td>\n",
       "      <td>25691.160000</td>\n",
       "      <td>1.000000</td>\n",
       "    </tr>\n",
       "  </tbody>\n",
       "</table>\n",
       "<p>8 rows × 31 columns</p>\n",
       "</div>"
      ],
      "text/plain": [
       "                Time            V1            V2            V3            V4  \\\n",
       "count  284807.000000  2.848070e+05  2.848070e+05  2.848070e+05  2.848070e+05   \n",
       "mean    94813.859575  3.919560e-15  5.688174e-16 -8.769071e-15  2.782312e-15   \n",
       "std     47488.145955  1.958696e+00  1.651309e+00  1.516255e+00  1.415869e+00   \n",
       "min         0.000000 -5.640751e+01 -7.271573e+01 -4.832559e+01 -5.683171e+00   \n",
       "25%     54201.500000 -9.203734e-01 -5.985499e-01 -8.903648e-01 -8.486401e-01   \n",
       "50%     84692.000000  1.810880e-02  6.548556e-02  1.798463e-01 -1.984653e-02   \n",
       "75%    139320.500000  1.315642e+00  8.037239e-01  1.027196e+00  7.433413e-01   \n",
       "max    172792.000000  2.454930e+00  2.205773e+01  9.382558e+00  1.687534e+01   \n",
       "\n",
       "                 V5            V6            V7            V8            V9  \\\n",
       "count  2.848070e+05  2.848070e+05  2.848070e+05  2.848070e+05  2.848070e+05   \n",
       "mean  -1.552563e-15  2.010663e-15 -1.694249e-15 -1.927028e-16 -3.137024e-15   \n",
       "std    1.380247e+00  1.332271e+00  1.237094e+00  1.194353e+00  1.098632e+00   \n",
       "min   -1.137433e+02 -2.616051e+01 -4.355724e+01 -7.321672e+01 -1.343407e+01   \n",
       "25%   -6.915971e-01 -7.682956e-01 -5.540759e-01 -2.086297e-01 -6.430976e-01   \n",
       "50%   -5.433583e-02 -2.741871e-01  4.010308e-02  2.235804e-02 -5.142873e-02   \n",
       "75%    6.119264e-01  3.985649e-01  5.704361e-01  3.273459e-01  5.971390e-01   \n",
       "max    3.480167e+01  7.330163e+01  1.205895e+02  2.000721e+01  1.559499e+01   \n",
       "\n",
       "           ...                 V21           V22           V23           V24  \\\n",
       "count      ...        2.848070e+05  2.848070e+05  2.848070e+05  2.848070e+05   \n",
       "mean       ...        1.537294e-16  7.959909e-16  5.367590e-16  4.458112e-15   \n",
       "std        ...        7.345240e-01  7.257016e-01  6.244603e-01  6.056471e-01   \n",
       "min        ...       -3.483038e+01 -1.093314e+01 -4.480774e+01 -2.836627e+00   \n",
       "25%        ...       -2.283949e-01 -5.423504e-01 -1.618463e-01 -3.545861e-01   \n",
       "50%        ...       -2.945017e-02  6.781943e-03 -1.119293e-02  4.097606e-02   \n",
       "75%        ...        1.863772e-01  5.285536e-01  1.476421e-01  4.395266e-01   \n",
       "max        ...        2.720284e+01  1.050309e+01  2.252841e+01  4.584549e+00   \n",
       "\n",
       "                V25           V26           V27           V28         Amount  \\\n",
       "count  2.848070e+05  2.848070e+05  2.848070e+05  2.848070e+05  284807.000000   \n",
       "mean   1.453003e-15  1.699104e-15 -3.660161e-16 -1.206049e-16      88.349619   \n",
       "std    5.212781e-01  4.822270e-01  4.036325e-01  3.300833e-01     250.120109   \n",
       "min   -1.029540e+01 -2.604551e+00 -2.256568e+01 -1.543008e+01       0.000000   \n",
       "25%   -3.171451e-01 -3.269839e-01 -7.083953e-02 -5.295979e-02       5.600000   \n",
       "50%    1.659350e-02 -5.213911e-02  1.342146e-03  1.124383e-02      22.000000   \n",
       "75%    3.507156e-01  2.409522e-01  9.104512e-02  7.827995e-02      77.165000   \n",
       "max    7.519589e+00  3.517346e+00  3.161220e+01  3.384781e+01   25691.160000   \n",
       "\n",
       "               Class  \n",
       "count  284807.000000  \n",
       "mean        0.001727  \n",
       "std         0.041527  \n",
       "min         0.000000  \n",
       "25%         0.000000  \n",
       "50%         0.000000  \n",
       "75%         0.000000  \n",
       "max         1.000000  \n",
       "\n",
       "[8 rows x 31 columns]"
      ]
     },
     "execution_count": 37,
     "metadata": {},
     "output_type": "execute_result"
    }
   ],
   "source": [
    "creditcard.describe()\n",
    "## V1-V28 have different scales, normalization would be needed."
   ]
  },
  {
   "cell_type": "code",
   "execution_count": 38,
   "metadata": {
    "collapsed": false
   },
   "outputs": [
    {
     "name": "stdout",
     "output_type": "stream",
     "text": [
      "Count of Fraud: 492\n",
      "Count of NotFraud: 284315\n",
      "Percentage of Fraud: 0.17%\n"
     ]
    }
   ],
   "source": [
    "print(\"Count of Fraud: {}\".format(len(creditcard[creditcard.Class==1])))\n",
    "print(\"Count of NotFraud: {}\".format(len(creditcard[creditcard.Class==0])))\n",
    "print(\"Percentage of Fraud: {:.2f}%\".format(len(creditcard[creditcard.Class==1])/len(creditcard)*100))\n",
    "## Fraud only accounts for 0.17% of total data, data is highly unbalanced.\n",
    "## This is the normal case in Fraud-detection because the anormality should be minor."
   ]
  },
  {
   "cell_type": "markdown",
   "metadata": {},
   "source": [
    "## Build Prediction Model"
   ]
  },
  {
   "cell_type": "markdown",
   "metadata": {},
   "source": [
    "### Deal with unbalanced data"
   ]
  },
  {
   "cell_type": "code",
   "execution_count": 39,
   "metadata": {
    "collapsed": false
   },
   "outputs": [
    {
     "name": "stdout",
     "output_type": "stream",
     "text": [
      "Count of Fraud: 492\n",
      "Count of Not_Fraud_undersample: 492\n"
     ]
    }
   ],
   "source": [
    "## The data is highly unbalanced, which would affect prediction results. Use under-sampling method to get balanced data.\n",
    "Fraud_obs = creditcard[creditcard.Class==1]\n",
    "Not_Fraud_obs = creditcard[creditcard.Class==0]\n",
    "Not_Fraud_undersample = Not_Fraud_obs.sample(n=len(Fraud_obs),random_state=1234)\n",
    "print(\"Count of Fraud: {}\".format(len(Fraud_obs)))\n",
    "print(\"Count of Not_Fraud_undersample: {}\".format(len(Not_Fraud_undersample)))\n",
    "df = Not_Fraud_undersample.append(Fraud_obs,ignore_index=True)"
   ]
  },
  {
   "cell_type": "markdown",
   "metadata": {},
   "source": [
    "### Normalize data"
   ]
  },
  {
   "cell_type": "code",
   "execution_count": 40,
   "metadata": {
    "collapsed": false
   },
   "outputs": [],
   "source": [
    "## Normalize independant variables for balanced data\n",
    "X = df.drop(['Time','Amount','Class'],axis=1)\n",
    "normalize = StandardScaler().fit(X)\n",
    "X_normalized = normalize.transform(X)"
   ]
  },
  {
   "cell_type": "code",
   "execution_count": 41,
   "metadata": {
    "collapsed": true
   },
   "outputs": [],
   "source": [
    "y = df.Class"
   ]
  },
  {
   "cell_type": "markdown",
   "metadata": {},
   "source": [
    "### Split data into training and test"
   ]
  },
  {
   "cell_type": "code",
   "execution_count": 42,
   "metadata": {
    "collapsed": false
   },
   "outputs": [],
   "source": [
    "X_train,X_test,y_train,y_test=train_test_split(X_normalized,y,test_size=0.3,random_state=1234)"
   ]
  },
  {
   "cell_type": "markdown",
   "metadata": {},
   "source": [
    "### Define Measures for Classification"
   ]
  },
  {
   "cell_type": "code",
   "execution_count": 78,
   "metadata": {
    "collapsed": true
   },
   "outputs": [],
   "source": [
    "def classifier_measures(y_test,model_pred):\n",
    "    # output confusion matrix\n",
    "    print (\"---------------------------------------Confusion Matrix------------------------------------------\")\n",
    "    model_matrix = confusion_matrix(y_test, model_pred)\n",
    "    # print ('Confusion matrix:\\n',model_matrix)\n",
    "    fig= plt.figure(figsize=(6,3))# to plot the graph\n",
    "    print(\"TP\",model_matrix[1,1,]) # no of fraud transaction which are predicted fraud\n",
    "    print(\"TN\",model_matrix[0,0]) # no. of normal transaction which are predited normal\n",
    "    print(\"FP\",model_matrix[0,1]) # no of normal transaction which are predicted fraud\n",
    "    print(\"FN\",model_matrix[1,0]) # no of fraud Transaction which are predicted normal\n",
    "    sns.heatmap(model_matrix,cmap=\"coolwarm_r\",annot=True,linewidths=0.5)\n",
    "    plt.title(\"Confusion_matrix\")\n",
    "    plt.xlabel(\"Predicted_class\")\n",
    "    plt.ylabel(\"Real class\")\n",
    "    plt.show()\n",
    "    \n",
    "    print()\n",
    "    print (\"--------------------------------------Precession and Recall-----------------------------------------\")\n",
    "    target_names = ['Not_Fraud',\"Fraud\"]\n",
    "    print(classification_report(y_test, model_pred, target_names=target_names))\n",
    "    #print(\"the recall for this model is :\",knn_matrix[1,1]/(knn_matrix[1,1]+knn_matrix[1,0]))\n"
   ]
  },
  {
   "cell_type": "markdown",
   "metadata": {},
   "source": [
    "### KNN Model"
   ]
  },
  {
   "cell_type": "code",
   "execution_count": 79,
   "metadata": {
    "collapsed": false
   },
   "outputs": [
    {
     "name": "stdout",
     "output_type": "stream",
     "text": [
      "___________________________________________Model Selection__________________________________________________\n",
      "Best estimator found by grid search: KNeighborsClassifier(algorithm='auto', leaf_size=30, metric='manhattan',\n",
      "           metric_params=None, n_jobs=1, n_neighbors=1, p=2,\n",
      "           weights='uniform')\n",
      "Best parameters found by grid search: {'n_neighbors': 1, 'metric': 'manhattan'}\n",
      "Best accuracy score found by grid search: 0.925872093023\n",
      "\n",
      "___________________________________________Model Prediction_________________________________________________\n",
      "Accuracy: 0.922297297297\n",
      "\n",
      "---------------------------------------Confusion Matrix------------------------------------------\n",
      "TP 120\n",
      "TN 153\n",
      "FP 8\n",
      "FN 15\n"
     ]
    },
    {
     "data": {
      "image/png": "[encoded data removed]",
      "text/plain": [
       "<matplotlib.figure.Figure at 0x222501bfe80>"
      ]
     },
     "metadata": {},
     "output_type": "display_data"
    },
    {
     "name": "stdout",
     "output_type": "stream",
     "text": [
      "\n",
      "--------------------------------------Precession and Recall-----------------------------------------\n",
      "             precision    recall  f1-score   support\n",
      "\n",
      "  Not_Fraud       0.91      0.95      0.93       161\n",
      "      Fraud       0.94      0.89      0.91       135\n",
      "\n",
      "avg / total       0.92      0.92      0.92       296\n",
      "\n"
     ]
    }
   ],
   "source": [
    "# Initialize classifier\n",
    "knn = KNeighborsClassifier()\n",
    "\n",
    "# Declare parameters to tune\n",
    "n_neighbors = list(range(1,11))\n",
    "distance = ['euclidean','manhattan']\n",
    "knn_params = {'n_neighbors':n_neighbors,'metric':distance}\n",
    "knn_gs = GridSearchCV(knn,knn_params,scoring='accuracy',cv=5)\n",
    "knn_gs.fit(X_train,y_train)\n",
    "print (\"___________________________________________Model Selection__________________________________________________\")\n",
    "print (\"Best estimator found by grid search:\",knn_gs.best_estimator_)\n",
    "print (\"Best parameters found by grid search:\",knn_gs.best_params_)\n",
    "print (\"Best accuracy score found by grid search:\",knn_gs.best_score_)\n",
    "print ()\n",
    "\n",
    "# Predict new values using best model derived from cross validation and test performance on the test set\n",
    "# knn_gs.predict(X_test) is equivalent to knn_gs.best_estimator_.predict(X_test)\n",
    "knn_pred = knn_gs.predict(X_test)\n",
    "knn_prob = knn_gs.predict_proba(X_test)\n",
    "knn_score = knn_gs.score(X_test, y_test)\n",
    "print (\"___________________________________________Model Prediction_________________________________________________\")\n",
    "print ('Accuracy:', knn_score)\n",
    "print ()\n",
    "classifier_measures(y_test,knn_pred)"
   ]
  },
  {
   "cell_type": "markdown",
   "metadata": {},
   "source": [
    "### Decision Tree"
   ]
  },
  {
   "cell_type": "code",
   "execution_count": 80,
   "metadata": {
    "collapsed": false
   },
   "outputs": [
    {
     "name": "stdout",
     "output_type": "stream",
     "text": [
      "___________________________________________Model Selection__________________________________________________\n",
      "Best estimator found by grid search: DecisionTreeClassifier(class_weight=None, criterion='gini', max_depth=3,\n",
      "            max_features=None, max_leaf_nodes=None,\n",
      "            min_impurity_decrease=0.0, min_impurity_split=None,\n",
      "            min_samples_leaf=1, min_samples_split=15,\n",
      "            min_weight_fraction_leaf=0.0, presort=False, random_state=None,\n",
      "            splitter='best')\n",
      "Best parameters found by grid search: {'min_samples_split': 15, 'max_depth': 3}\n",
      "Best accuracy score found by grid search: 0.9375\n",
      "\n",
      "___________________________________________Model Prediction_________________________________________________\n",
      "Accuracy: 0.932432432432\n",
      "\n",
      "---------------------------------------Confusion Matrix------------------------------------------\n",
      "TP 122\n",
      "TN 154\n",
      "FP 7\n",
      "FN 13\n"
     ]
    },
    {
     "data": {
      "image/png": "[encoded data removed]",
      "text/plain": [
       "<matplotlib.figure.Figure at 0x22252a4d358>"
      ]
     },
     "metadata": {},
     "output_type": "display_data"
    },
    {
     "name": "stdout",
     "output_type": "stream",
     "text": [
      "\n",
      "--------------------------------------Precession and Recall-----------------------------------------\n",
      "             precision    recall  f1-score   support\n",
      "\n",
      "  Not_Fraud       0.92      0.96      0.94       161\n",
      "      Fraud       0.95      0.90      0.92       135\n",
      "\n",
      "avg / total       0.93      0.93      0.93       296\n",
      "\n"
     ]
    }
   ],
   "source": [
    "# Initialize classifier\n",
    "dtree = tree.DecisionTreeClassifier()\n",
    "\n",
    "# Declare parameters to tune\n",
    "depth = np.arange(1,21,2)\n",
    "samplesplit = np.arange(5,31,5)\n",
    "dtree_params = {'max_depth':depth,'min_samples_split':samplesplit}\n",
    "dtree_gs = GridSearchCV(dtree,dtree_params,scoring='accuracy',cv=5)\n",
    "dtree_gs.fit(X_train,y_train)\n",
    "print (\"___________________________________________Model Selection__________________________________________________\")\n",
    "print (\"Best estimator found by grid search:\",dtree_gs.best_estimator_)\n",
    "print (\"Best parameters found by grid search:\",dtree_gs.best_params_)\n",
    "print (\"Best accuracy score found by grid search:\",dtree_gs.best_score_)\n",
    "print ()\n",
    "\n",
    "# Predict new values using best model derived from cross validation and test performance on the test set\n",
    "dtree_pred = dtree_gs.predict(X_test)\n",
    "dtree_prob = dtree_gs.predict_proba(X_test)\n",
    "dtree_score = dtree_gs.score(X_test, y_test)\n",
    "print (\"___________________________________________Model Prediction_________________________________________________\")\n",
    "print ('Accuracy:', dtree_score)\n",
    "print ()\n",
    "classifier_measures(y_test,dtree_pred)"
   ]
  },
  {
   "cell_type": "markdown",
   "metadata": {},
   "source": [
    "### SVM"
   ]
  },
  {
   "cell_type": "code",
   "execution_count": 81,
   "metadata": {
    "collapsed": false
   },
   "outputs": [
    {
     "name": "stdout",
     "output_type": "stream",
     "text": [
      "___________________________________________Model Selection__________________________________________________\n",
      "Best estimator found by grid search: SVC(C=9, cache_size=200, class_weight=None, coef0=0.0,\n",
      "  decision_function_shape='ovr', degree=3, gamma='auto', kernel='poly',\n",
      "  max_iter=-1, probability=True, random_state=None, shrinking=True,\n",
      "  tol=0.001, verbose=False)\n",
      "Best parameters found by grid search: {'kernel': 'poly', 'C': 9}\n",
      "Best accuracy score found by grid search: 0.936046511628\n",
      "\n",
      "___________________________________________Model Prediction_________________________________________________\n",
      "Accuracy: 0.935810810811\n",
      "\n",
      "---------------------------------------Confusion Matrix------------------------------------------\n",
      "TP 118\n",
      "TN 159\n",
      "FP 2\n",
      "FN 17\n"
     ]
    },
    {
     "data": {
      "image/png": "[encoded data removed]",
      "text/plain": [
       "<matplotlib.figure.Figure at 0x22252a96828>"
      ]
     },
     "metadata": {},
     "output_type": "display_data"
    },
    {
     "name": "stdout",
     "output_type": "stream",
     "text": [
      "\n",
      "--------------------------------------Precession and Recall-----------------------------------------\n",
      "             precision    recall  f1-score   support\n",
      "\n",
      "  Not_Fraud       0.90      0.99      0.94       161\n",
      "      Fraud       0.98      0.87      0.93       135\n",
      "\n",
      "avg / total       0.94      0.94      0.94       296\n",
      "\n"
     ]
    }
   ],
   "source": [
    "# Initialize classifier\n",
    "svm = SVC(probability=True)\n",
    "\n",
    "# Declare parameters to tune\n",
    "C=np.arange(1,11,2) \n",
    "kernel=['linear', 'poly','rbf']\n",
    "svm_params = {'C':C,'kernel':kernel}\n",
    "svm_gs = GridSearchCV(svm,svm_params,scoring='accuracy',cv=5)\n",
    "svm_gs.fit(X_train,y_train)\n",
    "print (\"___________________________________________Model Selection__________________________________________________\")\n",
    "print (\"Best estimator found by grid search:\",svm_gs.best_estimator_)\n",
    "print (\"Best parameters found by grid search:\",svm_gs.best_params_)\n",
    "print (\"Best accuracy score found by grid search:\",svm_gs.best_score_)\n",
    "print ()\n",
    "\n",
    "# Predict new values using best model derived from cross validation and test performance on the test set\n",
    "svm_pred = svm_gs.predict(X_test)\n",
    "svm_prob = svm_gs.predict_proba(X_test)\n",
    "svm_score = svm_gs.score(X_test, y_test)\n",
    "print (\"___________________________________________Model Prediction_________________________________________________\")\n",
    "print ('Accuracy:', svm_score)\n",
    "print ()\n",
    "classifier_measures(y_test,svm_pred)"
   ]
  },
  {
   "cell_type": "markdown",
   "metadata": {},
   "source": [
    "### Boosting"
   ]
  },
  {
   "cell_type": "code",
   "execution_count": 82,
   "metadata": {
    "collapsed": false
   },
   "outputs": [
    {
     "name": "stdout",
     "output_type": "stream",
     "text": [
      "___________________________________________Model Selection__________________________________________________\n",
      "Best estimator found by grid search: GradientBoostingClassifier(criterion='friedman_mse', init=None,\n",
      "              learning_rate=0.005, loss='deviance', max_depth=2,\n",
      "              max_features=None, max_leaf_nodes=None,\n",
      "              min_impurity_decrease=0.0, min_impurity_split=None,\n",
      "              min_samples_leaf=1, min_samples_split=2,\n",
      "              min_weight_fraction_leaf=0.0, n_estimators=400,\n",
      "              presort='auto', random_state=None, subsample=1.0, verbose=0,\n",
      "              warm_start=False)\n",
      "Best parameters found by grid search: {'n_estimators': 400, 'learning_rate': 0.005, 'max_depth': 2}\n",
      "Best accuracy score found by grid search: 0.943313953488\n",
      "\n",
      "___________________________________________Model Prediction_________________________________________________\n",
      "Accuracy: 0.922297297297\n",
      "\n",
      "---------------------------------------Confusion Matrix------------------------------------------\n",
      "TP 120\n",
      "TN 153\n",
      "FP 8\n",
      "FN 15\n"
     ]
    },
    {
     "data": {
      "image/png": "[encoded data removed]",
      "text/plain": [
       "<matplotlib.figure.Figure at 0x2225264c5f8>"
      ]
     },
     "metadata": {},
     "output_type": "display_data"
    },
    {
     "name": "stdout",
     "output_type": "stream",
     "text": [
      "\n",
      "--------------------------------------Precession and Recall-----------------------------------------\n",
      "             precision    recall  f1-score   support\n",
      "\n",
      "  Not_Fraud       0.91      0.95      0.93       161\n",
      "      Fraud       0.94      0.89      0.91       135\n",
      "\n",
      "avg / total       0.92      0.92      0.92       296\n",
      "\n"
     ]
    }
   ],
   "source": [
    "# Initialize classifier\n",
    "gbt = GradientBoostingClassifier()\n",
    "\n",
    "# Declare parameters to tune\n",
    "gbt_params = {'learning_rate': [.005,.01,.03,.05,.1], 'n_estimators' : [200,400], 'max_depth' : [2,3]}\n",
    "gbt_gs = GridSearchCV(gbt,gbt_params,scoring='accuracy',cv=5)\n",
    "gbt_gs.fit(X_train,y_train)\n",
    "print (\"___________________________________________Model Selection__________________________________________________\")\n",
    "print (\"Best estimator found by grid search:\",gbt_gs.best_estimator_)\n",
    "print (\"Best parameters found by grid search:\",gbt_gs.best_params_)\n",
    "print (\"Best accuracy score found by grid search:\",gbt_gs.best_score_)\n",
    "print ()\n",
    "\n",
    "# Predict new values using best model derived from cross validation and test performance on the test set\n",
    "gbt_pred = gbt_gs.predict(X_test)\n",
    "gbt_prob = gbt_gs.predict_proba(X_test)\n",
    "gbt_score = gbt_gs.score(X_test, y_test)\n",
    "print (\"___________________________________________Model Prediction_________________________________________________\")\n",
    "print ('Accuracy:', gbt_score)\n",
    "print ()\n",
    "classifier_measures(y_test,gbt_pred)"
   ]
  },
  {
   "cell_type": "markdown",
   "metadata": {},
   "source": [
    "### Neural Network"
   ]
  },
  {
   "cell_type": "code",
   "execution_count": 83,
   "metadata": {
    "collapsed": false
   },
   "outputs": [
    {
     "name": "stdout",
     "output_type": "stream",
     "text": [
      "___________________________________________Model Selection__________________________________________________\n",
      "Best estimator found by grid search: MLPClassifier(activation='tanh', alpha=0.0001, batch_size='auto', beta_1=0.9,\n",
      "       beta_2=0.999, early_stopping=False, epsilon=1e-08,\n",
      "       hidden_layer_sizes=25, learning_rate='constant',\n",
      "       learning_rate_init=0.001, max_iter=100000000, momentum=0.9,\n",
      "       nesterovs_momentum=True, power_t=0.5, random_state=None,\n",
      "       shuffle=True, solver='adam', tol=0.0001, validation_fraction=0.1,\n",
      "       verbose=False, warm_start=False)\n",
      "Best parameters found by grid search: {'activation': 'tanh', 'hidden_layer_sizes': 25}\n",
      "Best accuracy score found by grid search: 0.9375\n",
      "\n",
      "___________________________________________Model Prediction_________________________________________________\n",
      "Accuracy: 0.949324324324\n",
      "\n",
      "---------------------------------------Confusion Matrix------------------------------------------\n",
      "TP 123\n",
      "TN 158\n",
      "FP 3\n",
      "FN 12\n"
     ]
    },
    {
     "data": {
      "image/png": "[encoded data removed]",
      "text/plain": [
       "<matplotlib.figure.Figure at 0x222501810b8>"
      ]
     },
     "metadata": {},
     "output_type": "display_data"
    },
    {
     "name": "stdout",
     "output_type": "stream",
     "text": [
      "\n",
      "--------------------------------------Precession and Recall-----------------------------------------\n",
      "             precision    recall  f1-score   support\n",
      "\n",
      "  Not_Fraud       0.93      0.98      0.95       161\n",
      "      Fraud       0.98      0.91      0.94       135\n",
      "\n",
      "avg / total       0.95      0.95      0.95       296\n",
      "\n"
     ]
    }
   ],
   "source": [
    "# Initialize classifier\n",
    "nn = MLPClassifier(max_iter=100000000)\n",
    "\n",
    "# Declare parameters to tune\n",
    "activation = ['logistic', 'tanh', 'relu']\n",
    "nn_params = {'hidden_layer_sizes':[(25),(25,25)],'activation':activation}\n",
    "nn_gs = GridSearchCV(nn,nn_params,scoring='accuracy',cv=5)\n",
    "nn_gs.fit(X_train,y_train)\n",
    "print (\"___________________________________________Model Selection__________________________________________________\")\n",
    "print (\"Best estimator found by grid search:\",nn_gs.best_estimator_)\n",
    "print (\"Best parameters found by grid search:\",nn_gs.best_params_)\n",
    "print (\"Best accuracy score found by grid search:\",nn_gs.best_score_)\n",
    "print ()\n",
    "\n",
    "# Predict new values using best model derived from cross validation and test performance on the test set\n",
    "nn_pred = nn_gs.predict(X_test)\n",
    "nn_prob = nn_gs.predict_proba(X_test)\n",
    "nn_score = nn_gs.score(X_test, y_test)\n",
    "print (\"___________________________________________Model Prediction_________________________________________________\")\n",
    "print ('Accuracy:', nn_score)\n",
    "print ()\n",
    "classifier_measures(y_test,nn_pred)"
   ]
  },
  {
   "cell_type": "markdown",
   "metadata": {},
   "source": [
    "## ROC and AUC"
   ]
  },
  {
   "cell_type": "code",
   "execution_count": 84,
   "metadata": {
    "collapsed": false
   },
   "outputs": [
    {
     "data": {
      "image/png": "[encoded data removed]",
      "text/plain": [
       "<matplotlib.figure.Figure at 0x222533b5b70>"
      ]
     },
     "metadata": {},
     "output_type": "display_data"
    }
   ],
   "source": [
    "##roc curve\n",
    "fpr = dict()\n",
    "tpr = dict()\n",
    "threholds = dict()\n",
    "roc_auc = dict()\n",
    "classlabel = 1\n",
    "\n",
    "#Plot of a ROC curve for a specific class\n",
    "plt.figure()\n",
    "lw = 2\n",
    "\n",
    "fpr, tpr, thresholds = roc_curve(y_test, knn_prob[:, classlabel])\n",
    "roc_auc = auc(fpr, tpr)\n",
    "plt.plot(fpr, tpr, color='darkorange',\n",
    "         lw=lw, label='KNN ROC curve (area = {:.2f})'.format(roc_auc))\n",
    "\n",
    "fpr, tpr, thresholds = roc_curve(y_test, dtree_prob[:, classlabel])\n",
    "roc_auc = auc(fpr, tpr)\n",
    "plt.plot(fpr, tpr, color='darkgreen',\n",
    "         lw=lw, label='Tree ROC curve (area = {:.2f})'.format(roc_auc))\n",
    "\n",
    "fpr, tpr, thresholds = roc_curve(y_test, svm_prob[:, classlabel])\n",
    "roc_auc = auc(fpr, tpr)\n",
    "plt.plot(fpr, tpr, color='darkred',\n",
    "         lw=lw, label='SVM ROC curve (area = {:.2f})'.format(roc_auc))\n",
    "\n",
    "fpr, tpr, thresholds = roc_curve(y_test, gbt_prob[:, classlabel])\n",
    "roc_auc = auc(fpr, tpr)\n",
    "plt.plot(fpr, tpr, color='purple',\n",
    "         lw=lw, label='Boosting ROC curve (area = {:.2f})'.format(roc_auc))\n",
    "\n",
    "fpr, tpr, thresholds = roc_curve(y_test, nn_prob[:, classlabel])\n",
    "roc_auc = auc(fpr, tpr)\n",
    "plt.plot(fpr, tpr, color='blue',\n",
    "         lw=lw, label='Neaural Net ROC curve (area = {:.2f})'.format(roc_auc))\n",
    "\n",
    "plt.plot([0, 1], [0, 1], color='grey', lw=lw, linestyle='--')\n",
    "plt.xlim([0.0, 1.0])\n",
    "plt.ylim([0.0, 1.05])\n",
    "plt.xlabel('False Positive Rate')\n",
    "plt.ylabel('True Positive Rate')\n",
    "plt.title('Receiver operating characteristic example')\n",
    "plt.legend(loc=\"lower right\")\n",
    "plt.show()"
   ]
  },
  {
   "cell_type": "markdown",
   "metadata": {
    "collapsed": false
   },
   "source": [
    "## Model Comparision"
   ]
  },
  {
   "cell_type": "markdown",
   "metadata": {},
   "source": [
    "Neaural Network has the highest Accuracy score 0.95.\n",
    "For fraud detection, we would prefer greater recall, because it indicates that the model could identify most of the fraud.\n",
    "According to ROC curve and AUC, Neaural Network also has better performance."
   ]
  }
 ],
 "metadata": {
  "anaconda-cloud": {},
  "kernelspec": {
   "display_name": "Python [conda root]",
   "language": "python",
   "name": "conda-root-py"
  },
  "language_info": {
   "codemirror_mode": {
    "name": "ipython",
    "version": 3
   },
   "file_extension": ".py",
   "mimetype": "text/x-python",
   "name": "python",
   "nbconvert_exporter": "python",
   "pygments_lexer": "ipython3",
   "version": "3.5.2"
  }
 },
 "nbformat": 4,
 "nbformat_minor": 1
}
